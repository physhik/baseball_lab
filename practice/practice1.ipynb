{
  "nbformat": 4,
  "nbformat_minor": 0,
  "metadata": {
    "colab": {
      "name": "practice1.ipynb",
      "version": "0.3.2",
      "provenance": []
    },
    "kernelspec": {
      "name": "python3",
      "display_name": "Python 3"
    }
  },
  "cells": [
    {
      "cell_type": "code",
      "metadata": {
        "id": "pH3SinHxIzMZ",
        "colab_type": "code",
        "colab": {
          "base_uri": "https://localhost:8080/",
          "height": 119
        },
        "outputId": "e1065aaf-f61e-41a4-fa0f-f5ed5f657a78"
      },
      "source": [
        "!git clone https://github.com/physhik/baseball_lab.git"
      ],
      "execution_count": 1,
      "outputs": [
        {
          "output_type": "stream",
          "text": [
            "Cloning into 'baseball_lab'...\n",
            "remote: Enumerating objects: 17, done.\u001b[K\n",
            "remote: Counting objects: 100% (17/17), done.\u001b[K\n",
            "remote: Compressing objects: 100% (14/14), done.\u001b[K\n",
            "remote: Total 17 (delta 3), reused 0 (delta 0), pack-reused 0\u001b[K\n",
            "Unpacking objects: 100% (17/17), done.\n"
          ],
          "name": "stdout"
        }
      ]
    },
    {
      "cell_type": "code",
      "metadata": {
        "id": "oB15pf3pI873",
        "colab_type": "code",
        "colab": {
          "base_uri": "https://localhost:8080/",
          "height": 34
        },
        "outputId": "97370e19-33f0-4945-bce5-cc5ef75f6262"
      },
      "source": [
        "cd baseball_lab/src"
      ],
      "execution_count": 5,
      "outputs": [
        {
          "output_type": "stream",
          "text": [
            "/content/baseball_lab\n"
          ],
          "name": "stdout"
        }
      ]
    },
    {
      "cell_type": "code",
      "metadata": {
        "id": "ALZRiUtiJUci",
        "colab_type": "code",
        "colab": {}
      },
      "source": [
        "from metric import *"
      ],
      "execution_count": 0,
      "outputs": []
    },
    {
      "cell_type": "markdown",
      "metadata": {
        "id": "W4zcRrVkMBFs",
        "colab_type": "text"
      },
      "source": [
        "The main work of this repo is to make new derivatives from FIP's idea. The data frame which contains the new stats can be obtained since 2015, when the statcast data are open to public. If you want to download csv file (can be open by EXCEL spreadsheet), do the following. "
      ]
    },
    {
      "cell_type": "code",
      "metadata": {
        "id": "5qdRGmuiL3xH",
        "colab_type": "code",
        "colab": {
          "base_uri": "https://localhost:8080/",
          "height": 340
        },
        "outputId": "7fb31962-aca3-42aa-f8aa-35908f306679"
      },
      "source": [
        "df = new_metric(2019)"
      ],
      "execution_count": 13,
      "outputs": [
        {
          "output_type": "stream",
          "text": [
            "size of con, brl, con_wohr: 794 724 794\n",
            "fagraphs id and name removed: 17968.0 Brock Burke with innings 18.0\n",
            "fagraphs id and name removed: 17995.0 Logan Webb with innings 15.1\n",
            "fagraphs id and name removed: 18792.0 Miguel Del Pozo with innings 6.2\n",
            "fagraphs id and name removed: 17464.0 Jonathan Hernandez with innings 4.2\n",
            "fagraphs id and name removed: 15541.0 Tyler Rogers with innings 3.1\n",
            "fagraphs id and name removed: 15507.0 Hunter Harvey with innings 5.0\n",
            "fagraphs id and name removed: 19548.0 J. D. Hammer with innings 19.0\n",
            "fagraphs id and name removed: 19569.0 David Bednar with innings 1.0\n",
            "fagraphs id and name removed: 20367.0 Brusdar Graterol with innings 1.0\n",
            "fagraphs id and name removed: 18306.0 Taylor Guilbeau with innings 6.1\n",
            "fagraphs id and name removed: 19343.0 A.J. Puk with innings 2.1\n",
            "fagraphs id and name removed: 14332.0 Joel Payamps with innings 4.0\n",
            "fagraphs id and name removed: 17942.0 Adonis Rosa with innings 2.0\n",
            "fagraphs id and name removed: 15538.0 Eric Yardley with innings 3.0\n",
            "fagraphs id and name removed: 17998.0 Peter Fairbanks with innings 10.2\n",
            "fagraphs id and name removed: 19495.0 Michael Shawaryn with innings 12.2\n",
            "fagraphs id and name removed: 17035.0 Joseph Palumbo with innings 10.2\n",
            "fagraphs id and name removed: 20023.0 Rico Garcia with innings 5.0\n"
          ],
          "name": "stdout"
        }
      ]
    },
    {
      "cell_type": "markdown",
      "metadata": {
        "id": "z0LY3U3pM8yN",
        "colab_type": "text"
      },
      "source": [
        "It uses the master.csv file to find mapping between fangraphs player id and mlb.com player id. Some mlb ids are missing so had to remove some fangraph id and player stats. If the innings are not ignorable, you might need to find a mapping by hand. "
      ]
    },
    {
      "cell_type": "code",
      "metadata": {
        "id": "JvfkVZM5Mnql",
        "colab_type": "code",
        "colab": {}
      },
      "source": [
        "df.to_csv('../download/2019.csv')"
      ],
      "execution_count": 0,
      "outputs": []
    }
  ]
}